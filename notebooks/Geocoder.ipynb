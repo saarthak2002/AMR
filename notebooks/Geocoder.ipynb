{
 "cells": [
  {
   "cell_type": "code",
   "execution_count": 20,
   "id": "59a04f93-f60f-46e8-ab01-c306b3d6e291",
   "metadata": {},
   "outputs": [],
   "source": [
    "import matplotlib.pyplot as plt\n",
    "import pandas as pd\n",
    "import numpy as np\n",
    "from geopy.geocoders import Nominatim\n",
    "import warnings\n",
    "warnings.simplefilter(action='ignore', category=FutureWarning)\n",
    "\n",
    "geolocator = Nominatim(user_agent=\"AMR\")"
   ]
  },
  {
   "cell_type": "code",
   "execution_count": 21,
   "id": "ed5b9e36-fcde-4568-a68b-b1effc644c88",
   "metadata": {},
   "outputs": [],
   "source": [
    "geo = pd.DataFrame(columns = ['Region', 'lat', 'long'])"
   ]
  },
  {
   "cell_type": "code",
   "execution_count": 22,
   "id": "03bfff95-2a9f-438a-bb9e-25a3f9b3b496",
   "metadata": {},
   "outputs": [],
   "source": [
    "regionListTMP = [\"San Antonio TX\", \"Miami FL\", \"Richland WA\", \"Naples FL\", \"Wilkes-Barre PA\", \"Danville PA\", \"Portland OR\", \"Seattle WA\", \"Wichita KS\", \"Worcester MA\", \"Pittsburgh PA\", \"Boston MA\", \"Albuquerque NM\", \"Providence RI\", \"San Francisco CA\", \"Raleigh NC\", \"Detroit MI\", \"Burlington VT\", \"Charleston SC\", \"Jacksonville FL\", \"Ridgewood NJ\", \"Omaha NE\", \"Newberg OR\", \"Birmingham AL\", \"Decatur GA\", \"Melbourne FL\", \"Cocoa Beach FL\", \"Tavernier FL\", \"Albany NY\", \"Santa Monica CA\", \"Euclid OH\", \"Cleveland OH\", \"Houston TX\", \"Dallas TX\", \"Southfield MI\", \"Madison WI\", \"Tulsa OK\", \"Newport RI\", \"Reading PA\", \"Annapolis MD\", \"Morgantown WV\", \"Manhattan NY\", \"San Diego CA\", \"Greensboro NC\", \"Monroe NC\", \"Fernandina Beach FL\", \"Chicago IL\", \"Kings Mountain NC\", \"South Miami FL\", \"Sacramento CA\", \"St. Louis MO\", \"Boulder City NV\", \"Mayfield Heights OH\", \"Durham NC\", \"Kennewick WA\", \"Grand Rapids MI\", \"Bangor ME\", \"Charlotte NC\", \"Coral Gables FL\", \"Shelby NC\", \"Wilmington DE\", \"Marlborough MA\", \"Bethesda MD\", \"Mount Holly NJ\", \"Maryville IL\", \"Philadelphia PA\", \"Camden NJ\", \"Takoma Park MD\", \"Rockville MD\", \"Minneapolis MN\", \"Allentown PA\", \"Bethlehem PA\", \"Washington DC\", \"Sapulpa OK\", \"Memphis TN\", \"Bartlesville OK\", \"Coronado CA\", \"La Jolla CA\", \"Grand Forks ND\", \"Encinitas CA\", \"Tacoma WA\", \"Clinton MA\", \"Conroe TX\", \"Mesa AZ\", \"Phoenix AZ\", \"Charlottesville VA\", \"Chula Vista CA\", \"Evergreen AL\", \"Long Beach CA\", \"Oklahoma City OK\", \"West Chester PA\", \"Alabaster AL\", \"Pasco WA\", \"Fountain Valley CA\", \"Brownsville TN\", \"Brockton MA\", \"Vinita OK\", \"Burlington MA\", \"Shreveport LA\", \"Tillamook/Wheeler OR\", \"Ann Arbor MI\", \"New Orleans LA\", \"Baton Rouge LA\", \"Fairfax VA\", \"Hawthorne NV\", \"Honolulu HI\", \"Morganton NC\", \"Valdese NC\", \"White Plains NY\", \"Port Chester NY\", \"Page AZ\", \"Syracuse NY\", \"Pocahontas AR\", \"Atlanta GA\", \"Austell GA\", \"Battle Mountain NV\", \"Bellingham WA\", \"Bemidji MN\", \"Biloxi MS\", \"Buffalo OK\", \"Bullhead City AZ\", \"Carson City NV\", \"Cartersville GA\", \"Centre AL\", \"Columbus GA\", \"Cottage Grove OR\", \"Cullman AL\", \"Denver CO\", \"Dublin GA\", \"El Paso TX\", \"Enid OK\", \"Eugene OR\", \"Fairview OK\", \"Fallon NV\", \"Federal Way WA\", \"Flemingsburg KY\", \"Florence OR\", \"Fort Lauderdale FL\", \"Fort Payne AL\", \"Fort Pierce FL\", \"Fort Wayne IN\", \"Gainesville GA\", \"Galveston TX\", \"Hackensack NJ\", \"Harrisburg PA\", \"Henderson NV\", \"Indianapolis IN\", \"Iowa City IA\", \"Jackson MS\", \"Jasper AL\", \"Kansas City MO\", \"Ketchikan AK\", \"Knoxville TN\", \"Lakeland FL\", \"LaMesa CA\", \"Las Vegas NV\", \"Lexington KY\", \"Little Rock AR\", \"Los Alamitos CA\", \"Los Angeles CA\", \"Louisville KY\", \"Lubbock TX\", \"Miami Beach FL\", \"Milford MI\", \"Milwaukee WI\", \"Mobile AL\", \"Moulton AL\", \"Mount Clemens MI\", \"Munster IN\", \"Napoleon OH\", \"Newark NJ\", \"Newnan GA\", \"Okeechobee FL\", \"Okeene OK\", \"Orlando FL\", \"Pembroke Pines FL\", \"Plantation FL\", \"Port St. Lucie FL\", \"Reno NV\", \"Rochester NY\", \"Salem VA\", \"Salt Lake City UT\", \"San Jose\", \"Seaside OR\", \"Seiling OK\", \"Sioux Falls SD\", \"Snellville GA\", \"Sodus NY\", \"Spartanburg SC\", \"Springfield IL\", \"Stanford CA\", \"Sylacauga AL\", \"Talladega AL\", \"Toledo OH\", \"Torrance CA\", \"Truckee CA\", \"Tucson AZ\", \"Urbana IL\", \"Winder GA\", \"Winnemucca NV\"]\n",
    "\n",
    "for region in regionListTMP:\n",
    "    location = geolocator.geocode(region)\n",
    "    if(region == 'San Jose'):\n",
    "        region = 'San Jose CA'\n",
    "    geo = geo.append({'Region' : region, 'lat' : location.latitude, 'long' : location.longitude}, ignore_index = True)"
   ]
  },
  {
   "cell_type": "code",
   "execution_count": 23,
   "id": "913a7fd7-6447-4f89-a46f-962dc237a806",
   "metadata": {},
   "outputs": [],
   "source": [
    "geo.to_csv(\"geoData\")"
   ]
  }
 ],
 "metadata": {
  "kernelspec": {
   "display_name": "Python 3 (ipykernel)",
   "language": "python",
   "name": "python3"
  },
  "language_info": {
   "codemirror_mode": {
    "name": "ipython",
    "version": 3
   },
   "file_extension": ".py",
   "mimetype": "text/x-python",
   "name": "python",
   "nbconvert_exporter": "python",
   "pygments_lexer": "ipython3",
   "version": "3.9.13"
  }
 },
 "nbformat": 4,
 "nbformat_minor": 5
}
